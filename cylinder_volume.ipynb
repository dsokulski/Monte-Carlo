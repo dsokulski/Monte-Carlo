{
 "cells": [
  {
   "cell_type": "markdown",
   "metadata": {},
   "source": [
    "Use Monte Carlo method to calculate volume of a solid constructed as an intersection of three\n",
    "cylinders, with unit diameter and unit height, and perpendicular axes.  \n",
    "[![Open In Colab](https://colab.research.google.com/assets/colab-badge.svg)](https://colab.research.google.com/github/dsokulski/Monte-Carlo/blob/main/cylinder_volume.ipynb)"
   ]
  },
  {
   "cell_type": "code",
   "execution_count": 1,
   "metadata": {},
   "outputs": [],
   "source": [
    "import numpy as np\n",
    "from tqdm.notebook import tqdm"
   ]
  },
  {
   "cell_type": "code",
   "execution_count": 2,
   "metadata": {},
   "outputs": [],
   "source": [
    "# function checking if point (x, y, z) belongs to the constructed solid; -0.5 <= x, y, z <= 0.5\n",
    "def in_solid(x, y, z):\n",
    "    inside = True\n",
    "    # cylinder along x-axis\n",
    "    if y**2 + z**2 > 0.5**2:\n",
    "        inside = False\n",
    "    # cylinder along y-axis\n",
    "    if z**2 + x**2 > 0.5**2:\n",
    "        inside = False\n",
    "    # cylinder along z-axis\n",
    "    if x**2 + y**2 > 0.5**2:\n",
    "        inside = False\n",
    "\n",
    "    return inside"
   ]
  },
  {
   "cell_type": "code",
   "execution_count": 3,
   "metadata": {},
   "outputs": [
    {
     "data": {
      "application/vnd.jupyter.widget-view+json": {
       "model_id": "0e1369213e2e4cce8809fc06fcdbe587",
       "version_major": 2,
       "version_minor": 0
      },
      "text/plain": [
       "  0%|          | 0/100000 [00:00<?, ?it/s]"
      ]
     },
     "metadata": {},
     "output_type": "display_data"
    }
   ],
   "source": [
    "'''Count ratio of random points from a unit cube that lay inside the solid'''\n",
    "N_in = 0\n",
    "N_out = 0\n",
    "N_total = 100000\n",
    "for _ in tqdm(range(N_total)):\n",
    "    x = np.random.uniform() - 0.5\n",
    "    y = np.random.uniform() - 0.5\n",
    "    z = np.random.uniform() - 0.5\n",
    "    if in_solid(x, y, z):\n",
    "        N_in += 1\n",
    "    else:\n",
    "        N_out += 1"
   ]
  },
  {
   "cell_type": "code",
   "execution_count": 4,
   "metadata": {},
   "outputs": [
    {
     "name": "stdout",
     "output_type": "stream",
     "text": [
      "volume of the solid is 0.59\n"
     ]
    }
   ],
   "source": [
    "volume = N_in / N_total # full cube volume is 1\n",
    "print(\"volume of the solid is {:.2f}\".format(volume))"
   ]
  }
 ],
 "metadata": {
  "kernelspec": {
   "display_name": "Python 3",
   "language": "python",
   "name": "python3"
  },
  "language_info": {
   "codemirror_mode": {
    "name": "ipython",
    "version": 3
   },
   "file_extension": ".py",
   "mimetype": "text/x-python",
   "name": "python",
   "nbconvert_exporter": "python",
   "pygments_lexer": "ipython3",
   "version": "3.10.8"
  }
 },
 "nbformat": 4,
 "nbformat_minor": 2
}
